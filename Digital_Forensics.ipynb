{
  "nbformat": 4,
  "nbformat_minor": 0,
  "metadata": {
    "colab": {
      "provenance": [],
      "authorship_tag": "ABX9TyNY940Dkqdffg2oEirjWc/L",
      "include_colab_link": true
    },
    "kernelspec": {
      "name": "python3",
      "display_name": "Python 3"
    },
    "language_info": {
      "name": "python"
    }
  },
  "cells": [
    {
      "cell_type": "markdown",
      "metadata": {
        "id": "view-in-github",
        "colab_type": "text"
      },
      "source": [
        "<a href=\"https://colab.research.google.com/github/dnyaneshwarijadhav29/dnyaneshwarijadhav29/blob/main/Digital_Forensics.ipynb\" target=\"_parent\"><img src=\"https://colab.research.google.com/assets/colab-badge.svg\" alt=\"Open In Colab\"/></a>"
      ]
    },
    {
      "cell_type": "code",
      "execution_count": 2,
      "metadata": {
        "colab": {
          "base_uri": "https://localhost:8080/",
          "height": 141
        },
        "id": "0iKk_zg7w9gI",
        "outputId": "d22efa57-0e0b-4254-e016-ab1a5a96ca68"
      },
      "outputs": [
        {
          "output_type": "error",
          "ename": "SyntaxError",
          "evalue": "ignored",
          "traceback": [
            "\u001b[0;36m  File \u001b[0;32m\"<ipython-input-2-72b276c701e4>\"\u001b[0;36m, line \u001b[0;32m2\u001b[0m\n\u001b[0;31m    //SPDX-License-Identifier: MIT\u001b[0m\n\u001b[0m    ^\u001b[0m\n\u001b[0;31mSyntaxError\u001b[0m\u001b[0;31m:\u001b[0m invalid syntax\n"
          ]
        }
      ],
      "source": [
        "#ass-3(banking)\n",
        "//SPDX-License-Identifier: MIT\n",
        "\n",
        "pragma solidity ^0.8.0;\n",
        "\n",
        "//Created a smart contract that allows a user to deposit, withdraw and save ETH!!\n",
        "\n",
        "contract bank{\n",
        "    //we mapped the address of the caller balance in the contract\n",
        "    mapping(address => uint) public balances;\n",
        "\n",
        "// whatever the user deposit is added to msg.value of the sender address we mapped above\n",
        "    function deposit() public payable{\n",
        "        balances[msg.sender] += msg.value;\n",
        "    }\n",
        "\n",
        "//we create the fucntion of witdraw\n",
        "    function withdraw(uint _amount) public{\n",
        "        //we create a require arg to make sure the balance of the sender is >= _amount if not ERR\n",
        "        require(balances[msg.sender]>= _amount, \"Not enough ether\");\n",
        "        //if the amount is availabe we subtract it from the sender\n",
        "        balances[msg.sender] -= _amount*1000000000000000000;\n",
        "        //True bool is called to confirm the amount\n",
        "        (bool sent,) = msg.sender.call{value: _amount*1000000000000000000}(\"Sent\");\n",
        "        require(sent, \"failed to send ETH\");\n",
        "\n",
        "\n",
        "    }\n",
        "\n",
        "    function getBal() public view returns(uint){\n",
        "        return address(this).balance/1000000000000000000;\n",
        "    }\n",
        "\n",
        "}"
      ]
    },
    {
      "cell_type": "code",
      "source": [
        "// SPDX-License-Identifier: MIT\n",
        "pragma solidity >= 0.8.7;\n",
        "\n",
        "// Build the Contract\n",
        "contract MarksManagmtSys\n",
        "{\n",
        "\t// Create a structure for\n",
        "\t// student details\n",
        "\tstruct Student\n",
        "\t{\n",
        "\t\tint ID;\n",
        "\t\tstring fName;\n",
        "\t\tstring lName;\n",
        "\t\tint marks;\n",
        "\t}\n",
        "\n",
        "\taddress owner;\n",
        "\tint public stdCount = 0;\n",
        "\tmapping(int => Student) public stdRecords;\n",
        "\n",
        "\tmodifier onlyOwner\n",
        "\t{\n",
        "\t\trequire(owner == msg.sender);\n",
        "\t\t_;\n",
        "\t}\n",
        "\tconstructor()\n",
        "\t{\n",
        "\t\towner=msg.sender;\n",
        "\t}\n",
        "\n",
        "#\tass-4(student)\n",
        " // Create a function to add\n",
        "\t// the new records\n",
        "\tfunction addNewRecords(int _ID,\n",
        "\t\t\t\t\t\tstring memory _fName,\n",
        "\t\t\t\t\t\tstring memory _lName,\n",
        "\t\t\t\t\t\tint _marks) public onlyOwner\n",
        "\t{\n",
        "\t\t// Increase the count by 1\n",
        "\t\tstdCount = stdCount + 1;\n",
        "\n",
        "\t\t// Fetch the student details\n",
        "\t\t// with the help of stdCount\n",
        "\t\tstdRecords[stdCount] = Student(_ID, _fName,\n",
        "\t\t\t\t\t\t\t\t\t_lName, _marks);\n",
        "\t}\n",
        "\n",
        "\t// Create a function to add bonus marks\n",
        "\tfunction bonusMarks(int _bonus) public onlyOwner\n",
        "\t{\n",
        "\t\tstdRecords[stdCount].marks =\n",
        "\t\t\t\t\tstdRecords[stdCount].marks + _bonus;\n",
        "\t}\n",
        "}"
      ],
      "metadata": {
        "colab": {
          "base_uri": "https://localhost:8080/",
          "height": 141
        },
        "id": "yTVux75AxmWS",
        "outputId": "73a99eae-d63b-41fc-d548-6e7c8f3dffc3"
      },
      "execution_count": 1,
      "outputs": [
        {
          "output_type": "error",
          "ename": "SyntaxError",
          "evalue": "ignored",
          "traceback": [
            "\u001b[0;36m  File \u001b[0;32m\"<ipython-input-1-003d9dd7a167>\"\u001b[0;36m, line \u001b[0;32m1\u001b[0m\n\u001b[0;31m    // SPDX-License-Identifier: MIT\u001b[0m\n\u001b[0m    ^\u001b[0m\n\u001b[0;31mSyntaxError\u001b[0m\u001b[0;31m:\u001b[0m invalid syntax\n"
          ]
        }
      ]
    }
  ]
}